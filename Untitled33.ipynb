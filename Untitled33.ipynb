{
  "cells": [
    {
      "cell_type": "code",
      "execution_count": null,
      "metadata": {
        "colab": {
          "base_uri": "https://localhost:8080/"
        },
        "id": "8JMtpXYYnFL5",
        "outputId": "cf01d43d-8538-4caa-cb71-2f33c56f8ad0"
      },
      "outputs": [
        {
          "name": "stdout",
          "output_type": "stream",
          "text": [
            "The Top 10 Song Recommendation System\n",
            "-------------------------------------\n",
            "This will generate the 10 songs from the database thoese are similar to the song you entered.\n",
            "Please enter the name of song: AntiHero\n",
            "You should check out these songs: \n",
            "\n",
            "Maroon\n",
            "Karma\n",
            "cardigan\n",
            "Lover\n",
            "Bejeweled\n",
            "willow\n",
            "Delicate\n",
            "exile\n",
            "ME!\n",
            "august\n",
            "\n",
            "\n",
            "Do you want to generate again for the next song? [yes, no] yes\n",
            "The Top 10 Song Recommendation System\n",
            "-------------------------------------\n",
            "This will generate the 10 songs from the database thoese are similar to the song you entered.\n",
            "Please enter the name of song: Shape of You\n",
            "You should check out these songs: \n",
            "\n",
            "Perfect\n",
            "Shivers\n",
            "Photograph\n",
            "Adore You\n",
            "Chasin' You\n",
            "Bad Habits\n",
            "I Don't Care\n",
            "Beautiful People\n",
            "WITHOUT YOU\n",
            "You Right\n",
            "\n",
            "\n",
            "Do you want to generate again for the next song? [yes, no] no\n"
          ]
        }
      ],
      "source": [
        "# import requried dependencies\n",
        "import pandas as pd#working with datasets\n",
        "from sklearn.feature_extraction.text import CountVectorizer #used to transorm a given text into a vector\n",
        "from sklearn.metrics.pairwise import cosine_similarity\n",
        "\n",
        "# read the data\n",
        "df = pd.read_csv(\"Spotify_final_dataset.csv\", low_memory=False)[:1000]#coloumns will be read first\n",
        "\n",
        "# remove duplicates\n",
        "df = df.drop_duplicates(subset=\"Song Name\")\n",
        "#subset:coloumn label to identify duplicates\n",
        "/\n",
        "# drop Null values\n",
        "df = df.dropna(axis=0)\n",
        "\n",
        "# Drop the non-required columns\n",
        "df = df.drop(df.columns[3:], axis=1)\n",
        "\n",
        "# Removing space from \"Artist Name\" column\n",
        "df[\"Artist Name\"] = df[\"Artist Name\"].str.replace(\" \", \"\")\n",
        "\n",
        "# Combine all columns and assgin as new column\n",
        "#we combine all coloumns to make it easier to visualize and read data\n",
        "#apply-allows users to pass a function and use it in every value in panda series\n",
        "#lambda executes an expression\n",
        "df[\"data\"] = df.apply(lambda value: \" \".join(value.astype(\"str\")), axis=1)\n",
        "\n",
        "# models\n",
        "#vectorizer-operates on a set of values at a time\n",
        "vectorizer = CountVectorizer()\n",
        "vectorized = vectorizer.fit_transform(df[\"data\"])#converts text data into numerical values\n",
        "similarities = cosine_similarity(vectorized)#measures similarity netween 2 coloumns\n",
        "\n",
        "# Assgin the new dataframe with `similarities` values\n",
        "df_tmp = pd.DataFrame(similarities, columns=df[\"Song Name\"], index=df[\"Song Name\"]).reset_index()\n",
        "true = True\n",
        "while true:\n",
        "    print(\"The Top 10 Song Recommendation System\")\n",
        "    print(\"-------------------------------------\")\n",
        "    print(\"This will generate the 10 songs from the database thoese are similar to the song you entered.\")\n",
        "\n",
        "    # Asking the user for a song, it will loop until the song name is in our database.\n",
        "    while True:\n",
        "        input_song = input(\"Please enter the name of song: \")\n",
        "\n",
        "        if input_song in df_tmp.columns:\n",
        "            recommendation = df_tmp.nlargest(11, input_song)[\"Song Name\"] #to find the largest n value in a datset\n",
        "            break\n",
        "\n",
        "        else:\n",
        "            print(\"Sorry, there is no song name in our database. Please try another one.\")\n",
        "\n",
        "    print(\"You should check out these songs: \\n\")\n",
        "    for song in recommendation.values[1:]:\n",
        "        print(song)\n",
        "\n",
        "    print(\"\\n\")\n",
        "    # Asking the user for the next command, it will loop until the right command.\n",
        "    while True:\n",
        "        next_command = input(\"Do you want to generate again for the next song? [yes, no] \")\n",
        "\n",
        "        if next_command == \"yes\":\n",
        "            break\n",
        "\n",
        "        elif next_command == \"no\":\n",
        "            # `true` will be false. It will stop the whole script\n",
        "            true = False\n",
        "            break\n",
        "\n",
        "        else:\n",
        "            print(\"Please type 'yes' or 'no'\")"
      ]
    },
    {
      "cell_type": "code",
      "execution_count": null,
      "metadata": {
        "id": "eP4Ln--zcmEL"
      },
      "outputs": [],
      "source": [
        "from google.colab import drive\n",
        "drive.mount('/content/drive')"
      ]
    },
    {
      "cell_type": "markdown",
      "metadata": {
        "id": "452QCXehW3_v"
      },
      "source": [
        "# New Section"
      ]
    },
    {
      "cell_type": "code",
      "execution_count": null,
      "metadata": {
        "id": "e-djU0zWoKvt"
      },
      "outputs": [],
      "source": []
    }
  ],
  "metadata": {
    "colab": {
      "provenance": []
    },
    "kernelspec": {
      "display_name": "Python 3",
      "name": "python3"
    },
    "language_info": {
      "name": "python"
    }
  },
  "nbformat": 4,
  "nbformat_minor": 0
}